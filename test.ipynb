{
 "cells": [
  {
   "cell_type": "code",
   "execution_count": 107,
   "id": "c1c984a3",
   "metadata": {},
   "outputs": [],
   "source": [
    "import numpy as np \n",
    "from tensorflow.keras.layers import Input, Conv2D, MaxPooling2D, Flatten, Dense\n",
    "from tensorflow.keras.models import Sequential, load_model\n",
    "import tensorflow.keras.optimizers as optim\n",
    "import tensorflow.keras.datasets as datasets\n",
    "import tensorflow as tf\n",
    "from PIL import Image ,ImageOps\n",
    "import matplotlib.pyplot as plt"
   ]
  },
  {
   "cell_type": "code",
   "execution_count": 111,
   "id": "2b90be7e",
   "metadata": {},
   "outputs": [
    {
     "name": "stderr",
     "output_type": "stream",
     "text": [
      "WARNING:absl:Compiled the loaded model, but the compiled metrics have yet to be built. `model.compile_metrics` will be empty until you train or evaluate the model.\n"
     ]
    },
    {
     "name": "stdout",
     "output_type": "stream",
     "text": [
      "\u001b[1m1/1\u001b[0m \u001b[32m━━━━━━━━━━━━━━━━━━━━\u001b[0m\u001b[37m\u001b[0m \u001b[1m0s\u001b[0m 47ms/step\n",
      "Predicted digit: 1\n"
     ]
    }
   ],
   "source": [
    "def predict_digit(image_path, model_path='digitmodel.h5'):\n",
    "    model = load_model(model_path)\n",
    "    img = Image.open(image_path).convert('L')\n",
    "    img = img.resize((28, 28))\n",
    "    img = np.array(img)\n",
    "    if np.mean(img) > 127:\n",
    "        img = 255 - img\n",
    "    img = img / 255.0\n",
    "    img = img.reshape(1, 28, 28, 1).astype('float32')\n",
    "    prediction = model.predict(img)\n",
    "    return np.argmax(prediction)\n",
    "\n",
    "# Example\n",
    "image_path = 'depositphotos_37531843-stock-illustration-1-black-handwritten-number-on.jpg'\n",
    "pred = predict_digit(image_path)\n",
    "print(f\"Predicted digit: {pred}\")"
   ]
  }
 ],
 "metadata": {
  "kernelspec": {
   "display_name": "Python 3",
   "language": "python",
   "name": "python3"
  },
  "language_info": {
   "codemirror_mode": {
    "name": "ipython",
    "version": 3
   },
   "file_extension": ".py",
   "mimetype": "text/x-python",
   "name": "python",
   "nbconvert_exporter": "python",
   "pygments_lexer": "ipython3",
   "version": "3.10.12"
  }
 },
 "nbformat": 4,
 "nbformat_minor": 5
}
