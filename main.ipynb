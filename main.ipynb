{
 "cells": [
  {
   "cell_type": "code",
   "execution_count": 85,
   "id": "2a920fe3",
   "metadata": {},
   "outputs": [],
   "source": [
    "import numpy as np \n",
    "from tensorflow.keras.layers import Input, Conv2D, MaxPooling2D, Flatten, Dense\n",
    "from tensorflow.keras.models import Sequential, load_model\n",
    "import tensorflow.keras.optimizers as optim\n",
    "import tensorflow.keras.datasets as datasets\n",
    "import tensorflow as tf\n",
    "from PIL import Image \n",
    "import matplotlib.pyplot as plt"
   ]
  },
  {
   "cell_type": "code",
   "execution_count": 86,
   "id": "afc78642",
   "metadata": {},
   "outputs": [],
   "source": [
    "data = datasets.mnist\n",
    "(x_train, y_train), (x_test, y_test) = data.load_data()"
   ]
  },
  {
   "cell_type": "code",
   "execution_count": 87,
   "id": "a867e946",
   "metadata": {},
   "outputs": [],
   "source": [
    "x_train= x_train/255.0\n",
    "x_test= x_test/255.0\n",
    "x_train = x_train.reshape(-1, 28, 28, 1)\n",
    "x_test = x_test.reshape(-1, 28, 28, 1)"
   ]
  },
  {
   "cell_type": "code",
   "execution_count": 88,
   "id": "18c01e46",
   "metadata": {},
   "outputs": [],
   "source": [
    "model = Sequential([\n",
    "    Conv2D(32, (3, 3), activation='relu', input_shape=(28, 28, 1),padding='same'),\n",
    "    MaxPooling2D((2, 2)),\n",
    "    Conv2D(64, (3, 3), activation='relu'),\n",
    "    MaxPooling2D((2, 2)),\n",
    "    Conv2D(128, (3, 3), activation='relu'),\n",
    "    MaxPooling2D((2, 2)),\n",
    "    Flatten(),\n",
    "    Dense(10, activation='softmax')\n",
    "])"
   ]
  },
  {
   "cell_type": "code",
   "execution_count": 89,
   "id": "fb476489",
   "metadata": {},
   "outputs": [],
   "source": [
    "optimizer = optim.Adam(learning_rate=0.001)\n",
    "model.compile(optimizer=optimizer,loss='sparse_categorical_crossentropy', metrics=['accuracy'])"
   ]
  },
  {
   "cell_type": "code",
   "execution_count": 90,
   "id": "a3f13157",
   "metadata": {},
   "outputs": [
    {
     "name": "stdout",
     "output_type": "stream",
     "text": [
      "Epoch 1/100\n",
      "\u001b[1m844/844\u001b[0m \u001b[32m━━━━━━━━━━━━━━━━━━━━\u001b[0m\u001b[37m\u001b[0m \u001b[1m6s\u001b[0m 6ms/step - accuracy: 0.8717 - loss: 0.4234 - val_accuracy: 0.9828 - val_loss: 0.0574\n",
      "Epoch 2/100\n",
      "\u001b[1m844/844\u001b[0m \u001b[32m━━━━━━━━━━━━━━━━━━━━\u001b[0m\u001b[37m\u001b[0m \u001b[1m5s\u001b[0m 6ms/step - accuracy: 0.9842 - loss: 0.0494 - val_accuracy: 0.9900 - val_loss: 0.0395\n",
      "Epoch 3/100\n",
      "\u001b[1m844/844\u001b[0m \u001b[32m━━━━━━━━━━━━━━━━━━━━\u001b[0m\u001b[37m\u001b[0m \u001b[1m5s\u001b[0m 6ms/step - accuracy: 0.9892 - loss: 0.0338 - val_accuracy: 0.9913 - val_loss: 0.0314\n",
      "Epoch 4/100\n",
      "\u001b[1m844/844\u001b[0m \u001b[32m━━━━━━━━━━━━━━━━━━━━\u001b[0m\u001b[37m\u001b[0m \u001b[1m5s\u001b[0m 6ms/step - accuracy: 0.9915 - loss: 0.0253 - val_accuracy: 0.9902 - val_loss: 0.0364\n",
      "Epoch 5/100\n",
      "\u001b[1m844/844\u001b[0m \u001b[32m━━━━━━━━━━━━━━━━━━━━\u001b[0m\u001b[37m\u001b[0m \u001b[1m5s\u001b[0m 6ms/step - accuracy: 0.9934 - loss: 0.0207 - val_accuracy: 0.9920 - val_loss: 0.0290\n",
      "Epoch 6/100\n",
      "\u001b[1m844/844\u001b[0m \u001b[32m━━━━━━━━━━━━━━━━━━━━\u001b[0m\u001b[37m\u001b[0m \u001b[1m5s\u001b[0m 6ms/step - accuracy: 0.9955 - loss: 0.0139 - val_accuracy: 0.9925 - val_loss: 0.0307\n",
      "Epoch 7/100\n",
      "\u001b[1m844/844\u001b[0m \u001b[32m━━━━━━━━━━━━━━━━━━━━\u001b[0m\u001b[37m\u001b[0m \u001b[1m5s\u001b[0m 6ms/step - accuracy: 0.9966 - loss: 0.0104 - val_accuracy: 0.9893 - val_loss: 0.0377\n",
      "Epoch 8/100\n",
      "\u001b[1m844/844\u001b[0m \u001b[32m━━━━━━━━━━━━━━━━━━━━\u001b[0m\u001b[37m\u001b[0m \u001b[1m5s\u001b[0m 6ms/step - accuracy: 0.9970 - loss: 0.0086 - val_accuracy: 0.9893 - val_loss: 0.0450\n",
      "Epoch 9/100\n",
      "\u001b[1m844/844\u001b[0m \u001b[32m━━━━━━━━━━━━━━━━━━━━\u001b[0m\u001b[37m\u001b[0m \u001b[1m5s\u001b[0m 6ms/step - accuracy: 0.9978 - loss: 0.0073 - val_accuracy: 0.9923 - val_loss: 0.0360\n",
      "Epoch 10/100\n",
      "\u001b[1m844/844\u001b[0m \u001b[32m━━━━━━━━━━━━━━━━━━━━\u001b[0m\u001b[37m\u001b[0m \u001b[1m5s\u001b[0m 6ms/step - accuracy: 0.9971 - loss: 0.0077 - val_accuracy: 0.9905 - val_loss: 0.0408\n",
      "Epoch 11/100\n",
      "\u001b[1m844/844\u001b[0m \u001b[32m━━━━━━━━━━━━━━━━━━━━\u001b[0m\u001b[37m\u001b[0m \u001b[1m5s\u001b[0m 6ms/step - accuracy: 0.9984 - loss: 0.0044 - val_accuracy: 0.9927 - val_loss: 0.0378\n",
      "Epoch 12/100\n",
      "\u001b[1m844/844\u001b[0m \u001b[32m━━━━━━━━━━━━━━━━━━━━\u001b[0m\u001b[37m\u001b[0m \u001b[1m5s\u001b[0m 6ms/step - accuracy: 0.9977 - loss: 0.0063 - val_accuracy: 0.9913 - val_loss: 0.0422\n",
      "Epoch 13/100\n",
      "\u001b[1m844/844\u001b[0m \u001b[32m━━━━━━━━━━━━━━━━━━━━\u001b[0m\u001b[37m\u001b[0m \u001b[1m5s\u001b[0m 6ms/step - accuracy: 0.9984 - loss: 0.0047 - val_accuracy: 0.9917 - val_loss: 0.0454\n",
      "Epoch 14/100\n",
      "\u001b[1m844/844\u001b[0m \u001b[32m━━━━━━━━━━━━━━━━━━━━\u001b[0m\u001b[37m\u001b[0m \u001b[1m5s\u001b[0m 6ms/step - accuracy: 0.9989 - loss: 0.0034 - val_accuracy: 0.9912 - val_loss: 0.0420\n",
      "Epoch 15/100\n",
      "\u001b[1m844/844\u001b[0m \u001b[32m━━━━━━━━━━━━━━━━━━━━\u001b[0m\u001b[37m\u001b[0m \u001b[1m5s\u001b[0m 6ms/step - accuracy: 0.9993 - loss: 0.0021 - val_accuracy: 0.9930 - val_loss: 0.0481\n",
      "Epoch 16/100\n",
      "\u001b[1m844/844\u001b[0m \u001b[32m━━━━━━━━━━━━━━━━━━━━\u001b[0m\u001b[37m\u001b[0m \u001b[1m5s\u001b[0m 6ms/step - accuracy: 0.9986 - loss: 0.0044 - val_accuracy: 0.9917 - val_loss: 0.0427\n",
      "Epoch 17/100\n",
      "\u001b[1m844/844\u001b[0m \u001b[32m━━━━━━━━━━━━━━━━━━━━\u001b[0m\u001b[37m\u001b[0m \u001b[1m5s\u001b[0m 6ms/step - accuracy: 0.9988 - loss: 0.0029 - val_accuracy: 0.9923 - val_loss: 0.0374\n",
      "Epoch 18/100\n",
      "\u001b[1m844/844\u001b[0m \u001b[32m━━━━━━━━━━━━━━━━━━━━\u001b[0m\u001b[37m\u001b[0m \u001b[1m6s\u001b[0m 7ms/step - accuracy: 0.9997 - loss: 0.0013 - val_accuracy: 0.9892 - val_loss: 0.0566\n",
      "Epoch 19/100\n",
      "\u001b[1m844/844\u001b[0m \u001b[32m━━━━━━━━━━━━━━━━━━━━\u001b[0m\u001b[37m\u001b[0m \u001b[1m5s\u001b[0m 6ms/step - accuracy: 0.9978 - loss: 0.0054 - val_accuracy: 0.9915 - val_loss: 0.0579\n",
      "Epoch 20/100\n",
      "\u001b[1m844/844\u001b[0m \u001b[32m━━━━━━━━━━━━━━━━━━━━\u001b[0m\u001b[37m\u001b[0m \u001b[1m5s\u001b[0m 6ms/step - accuracy: 0.9989 - loss: 0.0033 - val_accuracy: 0.9928 - val_loss: 0.0466\n",
      "Epoch 21/100\n",
      "\u001b[1m844/844\u001b[0m \u001b[32m━━━━━━━━━━━━━━━━━━━━\u001b[0m\u001b[37m\u001b[0m \u001b[1m5s\u001b[0m 6ms/step - accuracy: 0.9996 - loss: 0.0019 - val_accuracy: 0.9927 - val_loss: 0.0435\n",
      "Epoch 22/100\n",
      "\u001b[1m844/844\u001b[0m \u001b[32m━━━━━━━━━━━━━━━━━━━━\u001b[0m\u001b[37m\u001b[0m \u001b[1m5s\u001b[0m 6ms/step - accuracy: 0.9992 - loss: 0.0023 - val_accuracy: 0.9932 - val_loss: 0.0518\n",
      "Epoch 23/100\n",
      "\u001b[1m844/844\u001b[0m \u001b[32m━━━━━━━━━━━━━━━━━━━━\u001b[0m\u001b[37m\u001b[0m \u001b[1m5s\u001b[0m 6ms/step - accuracy: 0.9989 - loss: 0.0034 - val_accuracy: 0.9912 - val_loss: 0.0596\n",
      "Epoch 24/100\n",
      "\u001b[1m844/844\u001b[0m \u001b[32m━━━━━━━━━━━━━━━━━━━━\u001b[0m\u001b[37m\u001b[0m \u001b[1m5s\u001b[0m 6ms/step - accuracy: 0.9991 - loss: 0.0028 - val_accuracy: 0.9927 - val_loss: 0.0571\n",
      "Epoch 25/100\n",
      "\u001b[1m844/844\u001b[0m \u001b[32m━━━━━━━━━━━━━━━━━━━━\u001b[0m\u001b[37m\u001b[0m \u001b[1m5s\u001b[0m 6ms/step - accuracy: 0.9994 - loss: 0.0018 - val_accuracy: 0.9917 - val_loss: 0.0540\n",
      "Epoch 26/100\n",
      "\u001b[1m844/844\u001b[0m \u001b[32m━━━━━━━━━━━━━━━━━━━━\u001b[0m\u001b[37m\u001b[0m \u001b[1m5s\u001b[0m 6ms/step - accuracy: 0.9991 - loss: 0.0024 - val_accuracy: 0.9925 - val_loss: 0.0550\n",
      "Epoch 27/100\n",
      "\u001b[1m844/844\u001b[0m \u001b[32m━━━━━━━━━━━━━━━━━━━━\u001b[0m\u001b[37m\u001b[0m \u001b[1m5s\u001b[0m 6ms/step - accuracy: 0.9990 - loss: 0.0028 - val_accuracy: 0.9918 - val_loss: 0.0617\n",
      "Epoch 28/100\n",
      "\u001b[1m844/844\u001b[0m \u001b[32m━━━━━━━━━━━━━━━━━━━━\u001b[0m\u001b[37m\u001b[0m \u001b[1m5s\u001b[0m 6ms/step - accuracy: 0.9990 - loss: 0.0032 - val_accuracy: 0.9922 - val_loss: 0.0596\n",
      "Epoch 29/100\n",
      "\u001b[1m844/844\u001b[0m \u001b[32m━━━━━━━━━━━━━━━━━━━━\u001b[0m\u001b[37m\u001b[0m \u001b[1m5s\u001b[0m 6ms/step - accuracy: 0.9998 - loss: 6.7561e-04 - val_accuracy: 0.9920 - val_loss: 0.0612\n",
      "Epoch 30/100\n",
      "\u001b[1m844/844\u001b[0m \u001b[32m━━━━━━━━━━━━━━━━━━━━\u001b[0m\u001b[37m\u001b[0m \u001b[1m5s\u001b[0m 6ms/step - accuracy: 0.9990 - loss: 0.0028 - val_accuracy: 0.9918 - val_loss: 0.0584\n",
      "Epoch 31/100\n",
      "\u001b[1m844/844\u001b[0m \u001b[32m━━━━━━━━━━━━━━━━━━━━\u001b[0m\u001b[37m\u001b[0m \u001b[1m5s\u001b[0m 6ms/step - accuracy: 0.9992 - loss: 0.0023 - val_accuracy: 0.9920 - val_loss: 0.0640\n",
      "Epoch 32/100\n",
      "\u001b[1m844/844\u001b[0m \u001b[32m━━━━━━━━━━━━━━━━━━━━\u001b[0m\u001b[37m\u001b[0m \u001b[1m5s\u001b[0m 6ms/step - accuracy: 0.9992 - loss: 0.0026 - val_accuracy: 0.9910 - val_loss: 0.0616\n",
      "Epoch 33/100\n",
      "\u001b[1m844/844\u001b[0m \u001b[32m━━━━━━━━━━━━━━━━━━━━\u001b[0m\u001b[37m\u001b[0m \u001b[1m6s\u001b[0m 7ms/step - accuracy: 0.9993 - loss: 0.0019 - val_accuracy: 0.9915 - val_loss: 0.0720\n",
      "Epoch 34/100\n",
      "\u001b[1m844/844\u001b[0m \u001b[32m━━━━━━━━━━━━━━━━━━━━\u001b[0m\u001b[37m\u001b[0m \u001b[1m6s\u001b[0m 7ms/step - accuracy: 0.9993 - loss: 0.0019 - val_accuracy: 0.9938 - val_loss: 0.0489\n",
      "Epoch 35/100\n",
      "\u001b[1m844/844\u001b[0m \u001b[32m━━━━━━━━━━━━━━━━━━━━\u001b[0m\u001b[37m\u001b[0m \u001b[1m6s\u001b[0m 7ms/step - accuracy: 0.9996 - loss: 0.0014 - val_accuracy: 0.9930 - val_loss: 0.0572\n",
      "Epoch 36/100\n",
      "\u001b[1m844/844\u001b[0m \u001b[32m━━━━━━━━━━━━━━━━━━━━\u001b[0m\u001b[37m\u001b[0m \u001b[1m5s\u001b[0m 6ms/step - accuracy: 0.9992 - loss: 0.0027 - val_accuracy: 0.9917 - val_loss: 0.0694\n",
      "Epoch 37/100\n",
      "\u001b[1m844/844\u001b[0m \u001b[32m━━━━━━━━━━━━━━━━━━━━\u001b[0m\u001b[37m\u001b[0m \u001b[1m5s\u001b[0m 6ms/step - accuracy: 0.9995 - loss: 0.0012 - val_accuracy: 0.9932 - val_loss: 0.0601\n",
      "Epoch 38/100\n",
      "\u001b[1m844/844\u001b[0m \u001b[32m━━━━━━━━━━━━━━━━━━━━\u001b[0m\u001b[37m\u001b[0m \u001b[1m5s\u001b[0m 6ms/step - accuracy: 0.9999 - loss: 1.9810e-04 - val_accuracy: 0.9918 - val_loss: 0.0578\n",
      "Epoch 39/100\n",
      "\u001b[1m844/844\u001b[0m \u001b[32m━━━━━━━━━━━━━━━━━━━━\u001b[0m\u001b[37m\u001b[0m \u001b[1m5s\u001b[0m 6ms/step - accuracy: 0.9994 - loss: 0.0027 - val_accuracy: 0.9917 - val_loss: 0.0585\n",
      "Epoch 40/100\n",
      "\u001b[1m844/844\u001b[0m \u001b[32m━━━━━━━━━━━━━━━━━━━━\u001b[0m\u001b[37m\u001b[0m \u001b[1m5s\u001b[0m 6ms/step - accuracy: 0.9991 - loss: 0.0029 - val_accuracy: 0.9908 - val_loss: 0.0645\n",
      "Epoch 41/100\n",
      "\u001b[1m844/844\u001b[0m \u001b[32m━━━━━━━━━━━━━━━━━━━━\u001b[0m\u001b[37m\u001b[0m \u001b[1m5s\u001b[0m 6ms/step - accuracy: 0.9997 - loss: 9.3797e-04 - val_accuracy: 0.9940 - val_loss: 0.0536\n",
      "Epoch 42/100\n",
      "\u001b[1m844/844\u001b[0m \u001b[32m━━━━━━━━━━━━━━━━━━━━\u001b[0m\u001b[37m\u001b[0m \u001b[1m5s\u001b[0m 6ms/step - accuracy: 0.9996 - loss: 0.0013 - val_accuracy: 0.9923 - val_loss: 0.0594\n",
      "Epoch 43/100\n",
      "\u001b[1m844/844\u001b[0m \u001b[32m━━━━━━━━━━━━━━━━━━━━\u001b[0m\u001b[37m\u001b[0m \u001b[1m5s\u001b[0m 6ms/step - accuracy: 0.9991 - loss: 0.0030 - val_accuracy: 0.9947 - val_loss: 0.0557\n",
      "Epoch 44/100\n",
      "\u001b[1m844/844\u001b[0m \u001b[32m━━━━━━━━━━━━━━━━━━━━\u001b[0m\u001b[37m\u001b[0m \u001b[1m5s\u001b[0m 6ms/step - accuracy: 0.9998 - loss: 7.7988e-04 - val_accuracy: 0.9923 - val_loss: 0.0522\n",
      "Epoch 45/100\n",
      "\u001b[1m844/844\u001b[0m \u001b[32m━━━━━━━━━━━━━━━━━━━━\u001b[0m\u001b[37m\u001b[0m \u001b[1m5s\u001b[0m 6ms/step - accuracy: 0.9998 - loss: 7.2776e-04 - val_accuracy: 0.9937 - val_loss: 0.0592\n",
      "Epoch 46/100\n",
      "\u001b[1m844/844\u001b[0m \u001b[32m━━━━━━━━━━━━━━━━━━━━\u001b[0m\u001b[37m\u001b[0m \u001b[1m5s\u001b[0m 6ms/step - accuracy: 0.9996 - loss: 0.0016 - val_accuracy: 0.9930 - val_loss: 0.0597\n",
      "Epoch 47/100\n",
      "\u001b[1m844/844\u001b[0m \u001b[32m━━━━━━━━━━━━━━━━━━━━\u001b[0m\u001b[37m\u001b[0m \u001b[1m5s\u001b[0m 6ms/step - accuracy: 0.9991 - loss: 0.0023 - val_accuracy: 0.9937 - val_loss: 0.0570\n",
      "Epoch 48/100\n",
      "\u001b[1m844/844\u001b[0m \u001b[32m━━━━━━━━━━━━━━━━━━━━\u001b[0m\u001b[37m\u001b[0m \u001b[1m5s\u001b[0m 6ms/step - accuracy: 0.9998 - loss: 8.2189e-04 - val_accuracy: 0.9942 - val_loss: 0.0606\n",
      "Epoch 49/100\n",
      "\u001b[1m844/844\u001b[0m \u001b[32m━━━━━━━━━━━━━━━━━━━━\u001b[0m\u001b[37m\u001b[0m \u001b[1m5s\u001b[0m 6ms/step - accuracy: 0.9993 - loss: 0.0025 - val_accuracy: 0.9933 - val_loss: 0.0658\n",
      "Epoch 50/100\n",
      "\u001b[1m844/844\u001b[0m \u001b[32m━━━━━━━━━━━━━━━━━━━━\u001b[0m\u001b[37m\u001b[0m \u001b[1m5s\u001b[0m 6ms/step - accuracy: 0.9997 - loss: 0.0010 - val_accuracy: 0.9938 - val_loss: 0.0588\n",
      "Epoch 51/100\n",
      "\u001b[1m844/844\u001b[0m \u001b[32m━━━━━━━━━━━━━━━━━━━━\u001b[0m\u001b[37m\u001b[0m \u001b[1m5s\u001b[0m 6ms/step - accuracy: 0.9991 - loss: 0.0026 - val_accuracy: 0.9925 - val_loss: 0.0617\n",
      "Epoch 52/100\n",
      "\u001b[1m844/844\u001b[0m \u001b[32m━━━━━━━━━━━━━━━━━━━━\u001b[0m\u001b[37m\u001b[0m \u001b[1m6s\u001b[0m 7ms/step - accuracy: 0.9999 - loss: 4.0456e-04 - val_accuracy: 0.9933 - val_loss: 0.0683\n",
      "Epoch 53/100\n",
      "\u001b[1m844/844\u001b[0m \u001b[32m━━━━━━━━━━━━━━━━━━━━\u001b[0m\u001b[37m\u001b[0m \u001b[1m5s\u001b[0m 6ms/step - accuracy: 0.9995 - loss: 0.0018 - val_accuracy: 0.9925 - val_loss: 0.0818\n",
      "Epoch 54/100\n",
      "\u001b[1m844/844\u001b[0m \u001b[32m━━━━━━━━━━━━━━━━━━━━\u001b[0m\u001b[37m\u001b[0m \u001b[1m5s\u001b[0m 6ms/step - accuracy: 0.9997 - loss: 0.0012 - val_accuracy: 0.9927 - val_loss: 0.0727\n",
      "Epoch 55/100\n",
      "\u001b[1m844/844\u001b[0m \u001b[32m━━━━━━━━━━━━━━━━━━━━\u001b[0m\u001b[37m\u001b[0m \u001b[1m5s\u001b[0m 6ms/step - accuracy: 0.9993 - loss: 0.0031 - val_accuracy: 0.9930 - val_loss: 0.0778\n",
      "Epoch 56/100\n",
      "\u001b[1m844/844\u001b[0m \u001b[32m━━━━━━━━━━━━━━━━━━━━\u001b[0m\u001b[37m\u001b[0m \u001b[1m5s\u001b[0m 6ms/step - accuracy: 0.9995 - loss: 0.0020 - val_accuracy: 0.9925 - val_loss: 0.0735\n",
      "Epoch 57/100\n",
      "\u001b[1m844/844\u001b[0m \u001b[32m━━━━━━━━━━━━━━━━━━━━\u001b[0m\u001b[37m\u001b[0m \u001b[1m5s\u001b[0m 6ms/step - accuracy: 0.9999 - loss: 1.6927e-04 - val_accuracy: 0.9933 - val_loss: 0.0664\n",
      "Epoch 58/100\n",
      "\u001b[1m844/844\u001b[0m \u001b[32m━━━━━━━━━━━━━━━━━━━━\u001b[0m\u001b[37m\u001b[0m \u001b[1m5s\u001b[0m 6ms/step - accuracy: 0.9995 - loss: 0.0024 - val_accuracy: 0.9923 - val_loss: 0.0704\n",
      "Epoch 59/100\n",
      "\u001b[1m844/844\u001b[0m \u001b[32m━━━━━━━━━━━━━━━━━━━━\u001b[0m\u001b[37m\u001b[0m \u001b[1m5s\u001b[0m 6ms/step - accuracy: 0.9997 - loss: 0.0010 - val_accuracy: 0.9912 - val_loss: 0.0680\n",
      "Epoch 60/100\n",
      "\u001b[1m844/844\u001b[0m \u001b[32m━━━━━━━━━━━━━━━━━━━━\u001b[0m\u001b[37m\u001b[0m \u001b[1m6s\u001b[0m 7ms/step - accuracy: 0.9998 - loss: 9.5384e-04 - val_accuracy: 0.9915 - val_loss: 0.0999\n",
      "Epoch 61/100\n",
      "\u001b[1m844/844\u001b[0m \u001b[32m━━━━━━━━━━━━━━━━━━━━\u001b[0m\u001b[37m\u001b[0m \u001b[1m6s\u001b[0m 7ms/step - accuracy: 0.9994 - loss: 0.0021 - val_accuracy: 0.9920 - val_loss: 0.0948\n",
      "Epoch 62/100\n",
      "\u001b[1m844/844\u001b[0m \u001b[32m━━━━━━━━━━━━━━━━━━━━\u001b[0m\u001b[37m\u001b[0m \u001b[1m6s\u001b[0m 7ms/step - accuracy: 0.9997 - loss: 0.0010 - val_accuracy: 0.9917 - val_loss: 0.0829\n",
      "Epoch 63/100\n",
      "\u001b[1m844/844\u001b[0m \u001b[32m━━━━━━━━━━━━━━━━━━━━\u001b[0m\u001b[37m\u001b[0m \u001b[1m5s\u001b[0m 6ms/step - accuracy: 0.9995 - loss: 0.0020 - val_accuracy: 0.9932 - val_loss: 0.0791\n",
      "Epoch 64/100\n",
      "\u001b[1m844/844\u001b[0m \u001b[32m━━━━━━━━━━━━━━━━━━━━\u001b[0m\u001b[37m\u001b[0m \u001b[1m5s\u001b[0m 6ms/step - accuracy: 0.9999 - loss: 3.0968e-04 - val_accuracy: 0.9927 - val_loss: 0.0803\n",
      "Epoch 65/100\n",
      "\u001b[1m844/844\u001b[0m \u001b[32m━━━━━━━━━━━━━━━━━━━━\u001b[0m\u001b[37m\u001b[0m \u001b[1m5s\u001b[0m 6ms/step - accuracy: 0.9999 - loss: 4.5578e-04 - val_accuracy: 0.9922 - val_loss: 0.0787\n",
      "Epoch 66/100\n",
      "\u001b[1m844/844\u001b[0m \u001b[32m━━━━━━━━━━━━━━━━━━━━\u001b[0m\u001b[37m\u001b[0m \u001b[1m5s\u001b[0m 6ms/step - accuracy: 0.9997 - loss: 0.0012 - val_accuracy: 0.9920 - val_loss: 0.0754\n",
      "Epoch 67/100\n",
      "\u001b[1m844/844\u001b[0m \u001b[32m━━━━━━━━━━━━━━━━━━━━\u001b[0m\u001b[37m\u001b[0m \u001b[1m6s\u001b[0m 6ms/step - accuracy: 0.9993 - loss: 0.0022 - val_accuracy: 0.9917 - val_loss: 0.0888\n",
      "Epoch 68/100\n",
      "\u001b[1m844/844\u001b[0m \u001b[32m━━━━━━━━━━━━━━━━━━━━\u001b[0m\u001b[37m\u001b[0m \u001b[1m6s\u001b[0m 7ms/step - accuracy: 0.9994 - loss: 0.0017 - val_accuracy: 0.9920 - val_loss: 0.0892\n",
      "Epoch 69/100\n",
      "\u001b[1m844/844\u001b[0m \u001b[32m━━━━━━━━━━━━━━━━━━━━\u001b[0m\u001b[37m\u001b[0m \u001b[1m6s\u001b[0m 7ms/step - accuracy: 0.9997 - loss: 0.0016 - val_accuracy: 0.9930 - val_loss: 0.0905\n",
      "Epoch 70/100\n",
      "\u001b[1m844/844\u001b[0m \u001b[32m━━━━━━━━━━━━━━━━━━━━\u001b[0m\u001b[37m\u001b[0m \u001b[1m6s\u001b[0m 7ms/step - accuracy: 1.0000 - loss: 4.3029e-05 - val_accuracy: 0.9927 - val_loss: 0.0971\n",
      "Epoch 71/100\n",
      "\u001b[1m844/844\u001b[0m \u001b[32m━━━━━━━━━━━━━━━━━━━━\u001b[0m\u001b[37m\u001b[0m \u001b[1m5s\u001b[0m 6ms/step - accuracy: 0.9995 - loss: 0.0021 - val_accuracy: 0.9915 - val_loss: 0.0959\n",
      "Epoch 72/100\n",
      "\u001b[1m844/844\u001b[0m \u001b[32m━━━━━━━━━━━━━━━━━━━━\u001b[0m\u001b[37m\u001b[0m \u001b[1m5s\u001b[0m 6ms/step - accuracy: 0.9992 - loss: 0.0030 - val_accuracy: 0.9925 - val_loss: 0.0807\n",
      "Epoch 73/100\n",
      "\u001b[1m844/844\u001b[0m \u001b[32m━━━━━━━━━━━━━━━━━━━━\u001b[0m\u001b[37m\u001b[0m \u001b[1m5s\u001b[0m 6ms/step - accuracy: 0.9995 - loss: 0.0015 - val_accuracy: 0.9920 - val_loss: 0.0983\n",
      "Epoch 74/100\n",
      "\u001b[1m844/844\u001b[0m \u001b[32m━━━━━━━━━━━━━━━━━━━━\u001b[0m\u001b[37m\u001b[0m \u001b[1m5s\u001b[0m 6ms/step - accuracy: 0.9998 - loss: 5.3757e-04 - val_accuracy: 0.9927 - val_loss: 0.0951\n",
      "Epoch 75/100\n",
      "\u001b[1m844/844\u001b[0m \u001b[32m━━━━━━━━━━━━━━━━━━━━\u001b[0m\u001b[37m\u001b[0m \u001b[1m5s\u001b[0m 6ms/step - accuracy: 0.9999 - loss: 7.2758e-04 - val_accuracy: 0.9897 - val_loss: 0.1190\n",
      "Epoch 76/100\n",
      "\u001b[1m844/844\u001b[0m \u001b[32m━━━━━━━━━━━━━━━━━━━━\u001b[0m\u001b[37m\u001b[0m \u001b[1m5s\u001b[0m 6ms/step - accuracy: 0.9990 - loss: 0.0040 - val_accuracy: 0.9920 - val_loss: 0.1049\n",
      "Epoch 77/100\n",
      "\u001b[1m844/844\u001b[0m \u001b[32m━━━━━━━━━━━━━━━━━━━━\u001b[0m\u001b[37m\u001b[0m \u001b[1m5s\u001b[0m 6ms/step - accuracy: 0.9996 - loss: 0.0023 - val_accuracy: 0.9920 - val_loss: 0.1226\n",
      "Epoch 78/100\n",
      "\u001b[1m844/844\u001b[0m \u001b[32m━━━━━━━━━━━━━━━━━━━━\u001b[0m\u001b[37m\u001b[0m \u001b[1m5s\u001b[0m 6ms/step - accuracy: 0.9997 - loss: 8.2764e-04 - val_accuracy: 0.9925 - val_loss: 0.1139\n",
      "Epoch 79/100\n",
      "\u001b[1m844/844\u001b[0m \u001b[32m━━━━━━━━━━━━━━━━━━━━\u001b[0m\u001b[37m\u001b[0m \u001b[1m5s\u001b[0m 6ms/step - accuracy: 0.9997 - loss: 0.0010 - val_accuracy: 0.9925 - val_loss: 0.1151\n",
      "Epoch 80/100\n",
      "\u001b[1m844/844\u001b[0m \u001b[32m━━━━━━━━━━━━━━━━━━━━\u001b[0m\u001b[37m\u001b[0m \u001b[1m6s\u001b[0m 7ms/step - accuracy: 0.9997 - loss: 0.0017 - val_accuracy: 0.9930 - val_loss: 0.1046\n",
      "Epoch 81/100\n",
      "\u001b[1m844/844\u001b[0m \u001b[32m━━━━━━━━━━━━━━━━━━━━\u001b[0m\u001b[37m\u001b[0m \u001b[1m6s\u001b[0m 7ms/step - accuracy: 0.9999 - loss: 2.4905e-04 - val_accuracy: 0.9927 - val_loss: 0.1193\n",
      "Epoch 82/100\n",
      "\u001b[1m844/844\u001b[0m \u001b[32m━━━━━━━━━━━━━━━━━━━━\u001b[0m\u001b[37m\u001b[0m \u001b[1m6s\u001b[0m 7ms/step - accuracy: 0.9993 - loss: 0.0036 - val_accuracy: 0.9930 - val_loss: 0.0749\n",
      "Epoch 83/100\n",
      "\u001b[1m844/844\u001b[0m \u001b[32m━━━━━━━━━━━━━━━━━━━━\u001b[0m\u001b[37m\u001b[0m \u001b[1m6s\u001b[0m 7ms/step - accuracy: 0.9997 - loss: 6.9716e-04 - val_accuracy: 0.9923 - val_loss: 0.0900\n",
      "Epoch 84/100\n",
      "\u001b[1m844/844\u001b[0m \u001b[32m━━━━━━━━━━━━━━━━━━━━\u001b[0m\u001b[37m\u001b[0m \u001b[1m6s\u001b[0m 7ms/step - accuracy: 1.0000 - loss: 1.5806e-04 - val_accuracy: 0.9928 - val_loss: 0.1024\n",
      "Epoch 85/100\n",
      "\u001b[1m844/844\u001b[0m \u001b[32m━━━━━━━━━━━━━━━━━━━━\u001b[0m\u001b[37m\u001b[0m \u001b[1m6s\u001b[0m 7ms/step - accuracy: 1.0000 - loss: 7.5553e-05 - val_accuracy: 0.9933 - val_loss: 0.0859\n",
      "Epoch 86/100\n",
      "\u001b[1m844/844\u001b[0m \u001b[32m━━━━━━━━━━━━━━━━━━━━\u001b[0m\u001b[37m\u001b[0m \u001b[1m5s\u001b[0m 6ms/step - accuracy: 1.0000 - loss: 7.7218e-06 - val_accuracy: 0.9935 - val_loss: 0.0967\n",
      "Epoch 87/100\n",
      "\u001b[1m844/844\u001b[0m \u001b[32m━━━━━━━━━━━━━━━━━━━━\u001b[0m\u001b[37m\u001b[0m \u001b[1m5s\u001b[0m 6ms/step - accuracy: 0.9996 - loss: 0.0021 - val_accuracy: 0.9930 - val_loss: 0.0911\n",
      "Epoch 88/100\n",
      "\u001b[1m844/844\u001b[0m \u001b[32m━━━━━━━━━━━━━━━━━━━━\u001b[0m\u001b[37m\u001b[0m \u001b[1m5s\u001b[0m 6ms/step - accuracy: 0.9994 - loss: 0.0019 - val_accuracy: 0.9923 - val_loss: 0.1007\n",
      "Epoch 89/100\n",
      "\u001b[1m844/844\u001b[0m \u001b[32m━━━━━━━━━━━━━━━━━━━━\u001b[0m\u001b[37m\u001b[0m \u001b[1m5s\u001b[0m 6ms/step - accuracy: 0.9998 - loss: 0.0012 - val_accuracy: 0.9928 - val_loss: 0.1071\n",
      "Epoch 90/100\n",
      "\u001b[1m844/844\u001b[0m \u001b[32m━━━━━━━━━━━━━━━━━━━━\u001b[0m\u001b[37m\u001b[0m \u001b[1m5s\u001b[0m 6ms/step - accuracy: 1.0000 - loss: 4.3197e-05 - val_accuracy: 0.9935 - val_loss: 0.0957\n",
      "Epoch 91/100\n",
      "\u001b[1m844/844\u001b[0m \u001b[32m━━━━━━━━━━━━━━━━━━━━\u001b[0m\u001b[37m\u001b[0m \u001b[1m5s\u001b[0m 6ms/step - accuracy: 1.0000 - loss: 1.0526e-06 - val_accuracy: 0.9935 - val_loss: 0.0953\n",
      "Epoch 92/100\n",
      "\u001b[1m844/844\u001b[0m \u001b[32m━━━━━━━━━━━━━━━━━━━━\u001b[0m\u001b[37m\u001b[0m \u001b[1m5s\u001b[0m 6ms/step - accuracy: 1.0000 - loss: 6.8276e-07 - val_accuracy: 0.9935 - val_loss: 0.0952\n",
      "Epoch 93/100\n",
      "\u001b[1m844/844\u001b[0m \u001b[32m━━━━━━━━━━━━━━━━━━━━\u001b[0m\u001b[37m\u001b[0m \u001b[1m5s\u001b[0m 6ms/step - accuracy: 1.0000 - loss: 4.4453e-07 - val_accuracy: 0.9935 - val_loss: 0.0950\n",
      "Epoch 94/100\n",
      "\u001b[1m844/844\u001b[0m \u001b[32m━━━━━━━━━━━━━━━━━━━━\u001b[0m\u001b[37m\u001b[0m \u001b[1m5s\u001b[0m 6ms/step - accuracy: 1.0000 - loss: 3.3056e-07 - val_accuracy: 0.9935 - val_loss: 0.0949\n",
      "Epoch 95/100\n",
      "\u001b[1m844/844\u001b[0m \u001b[32m━━━━━━━━━━━━━━━━━━━━\u001b[0m\u001b[37m\u001b[0m \u001b[1m5s\u001b[0m 6ms/step - accuracy: 1.0000 - loss: 2.6746e-07 - val_accuracy: 0.9935 - val_loss: 0.0949\n",
      "Epoch 96/100\n",
      "\u001b[1m844/844\u001b[0m \u001b[32m━━━━━━━━━━━━━━━━━━━━\u001b[0m\u001b[37m\u001b[0m \u001b[1m5s\u001b[0m 6ms/step - accuracy: 1.0000 - loss: 1.5931e-07 - val_accuracy: 0.9935 - val_loss: 0.0948\n",
      "Epoch 97/100\n",
      "\u001b[1m844/844\u001b[0m \u001b[32m━━━━━━━━━━━━━━━━━━━━\u001b[0m\u001b[37m\u001b[0m \u001b[1m5s\u001b[0m 6ms/step - accuracy: 1.0000 - loss: 1.2037e-07 - val_accuracy: 0.9935 - val_loss: 0.0947\n",
      "Epoch 98/100\n",
      "\u001b[1m844/844\u001b[0m \u001b[32m━━━━━━━━━━━━━━━━━━━━\u001b[0m\u001b[37m\u001b[0m \u001b[1m5s\u001b[0m 6ms/step - accuracy: 1.0000 - loss: 1.0478e-07 - val_accuracy: 0.9935 - val_loss: 0.0948\n",
      "Epoch 99/100\n",
      "\u001b[1m844/844\u001b[0m \u001b[32m━━━━━━━━━━━━━━━━━━━━\u001b[0m\u001b[37m\u001b[0m \u001b[1m5s\u001b[0m 6ms/step - accuracy: 1.0000 - loss: 6.0314e-08 - val_accuracy: 0.9935 - val_loss: 0.0949\n",
      "Epoch 100/100\n",
      "\u001b[1m844/844\u001b[0m \u001b[32m━━━━━━━━━━━━━━━━━━━━\u001b[0m\u001b[37m\u001b[0m \u001b[1m5s\u001b[0m 6ms/step - accuracy: 1.0000 - loss: 6.1251e-08 - val_accuracy: 0.9935 - val_loss: 0.0950\n"
     ]
    }
   ],
   "source": [
    "history = model.fit(x_train,y_train,epochs =100, batch_size=64,validation_split=0.1)"
   ]
  },
  {
   "cell_type": "code",
   "execution_count": 91,
   "id": "bc51d603",
   "metadata": {},
   "outputs": [
    {
     "name": "stdout",
     "output_type": "stream",
     "text": [
      "\u001b[1m313/313\u001b[0m \u001b[32m━━━━━━━━━━━━━━━━━━━━\u001b[0m\u001b[37m\u001b[0m \u001b[1m0s\u001b[0m 2ms/step - accuracy: 0.9910 - loss: 0.0992\n",
      "Test accuracy: 0.9932000041007996\n",
      "Test loss: 0.0767095610499382\n"
     ]
    }
   ],
   "source": [
    "loss,and_acc = model.evaluate(x_test, y_test)\n",
    "print(\"Test accuracy:\", and_acc)\n",
    "print(\"Test loss:\", loss)"
   ]
  },
  {
   "cell_type": "code",
   "execution_count": 92,
   "id": "59ca2a3f",
   "metadata": {},
   "outputs": [
    {
     "data": {
      "image/png": "[encoded data removed]",
      "text/plain": [
       "<Figure size 640x480 with 1 Axes>"
      ]
     },
     "metadata": {},
     "output_type": "display_data"
    }
   ],
   "source": [
    "plt.plot(history.history['loss'], label='Training Loss')\n",
    "plt.title('Training Loss Over Epochs')\n",
    "plt.xlabel('Epochs')\n",
    "plt.ylabel('Loss')\n",
    "plt.legend()\n",
    "plt.show()"
   ]
  },
  {
   "cell_type": "code",
   "execution_count": 94,
   "id": "c0b13b0b",
   "metadata": {},
   "outputs": [
    {
     "name": "stderr",
     "output_type": "stream",
     "text": [
      "WARNING:absl:You are saving your model as an HDF5 file via `model.save()` or `keras.saving.save_model(model)`. This file format is considered legacy. We recommend using instead the native Keras format, e.g. `model.save('my_model.keras')` or `keras.saving.save_model(model, 'my_model.keras')`. \n"
     ]
    }
   ],
   "source": [
    "model.save('digitmodel.h5')"
   ]
  }
 ],
 "metadata": {
  "kernelspec": {
   "display_name": "Python 3",
   "language": "python",
   "name": "python3"
  },
  "language_info": {
   "codemirror_mode": {
    "name": "ipython",
    "version": 3
   },
   "file_extension": ".py",
   "mimetype": "text/x-python",
   "name": "python",
   "nbconvert_exporter": "python",
   "pygments_lexer": "ipython3",
   "version": "3.10.12"
  }
 },
 "nbformat": 4,
 "nbformat_minor": 5
}
